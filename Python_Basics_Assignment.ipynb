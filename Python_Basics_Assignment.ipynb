{
  "nbformat": 4,
  "nbformat_minor": 0,
  "metadata": {
    "colab": {
      "provenance": []
    },
    "kernelspec": {
      "name": "python3",
      "display_name": "Python 3"
    },
    "language_info": {
      "name": "python"
    }
  },
  "cells": [
    {
      "cell_type": "markdown",
      "source": [
        "**ANS 1:** Python is a programming language which can easily understand and write, which makes it popular among developers and programmers."
      ],
      "metadata": {
        "id": "7SRCLf8LX0sl"
      }
    },
    {
      "cell_type": "markdown",
      "source": [
        "**ANS 2:** Interpreter is a python program that directly excute programm line by line, converting it into a machine code at run time."
      ],
      "metadata": {
        "id": "-_XX_fVBYimm"
      }
    },
    {
      "cell_type": "markdown",
      "source": [
        "**ANS 3:** Keywords are reserved words in python that have special meaning and cannot be used as identifiers.\n",
        "\n",
        "Example of keywords include if,else,while,for,def,import,try,except,return,etc."
      ],
      "metadata": {
        "id": "rb-7YZw3a6dM"
      }
    },
    {
      "cell_type": "markdown",
      "source": [
        "**ANS 4:** Keywords are case sensitive and cannot be used as variable or redefined within a python programm."
      ],
      "metadata": {
        "id": "kiRHTgB3bmm4"
      }
    },
    {
      "cell_type": "markdown",
      "source": [
        "**ANS 5:** Mutable objects, such as lists and dictionaries, can be modified after creation. Mutability affects how objects are stored and manipulated in memory, impacting performance, memory usage and concurrency in python programming."
      ],
      "metadata": {
        "id": "PVglwEZacDP1"
      }
    },
    {
      "cell_type": "markdown",
      "source": [
        "**ANS 6:** Lists are mutable because it can be modified or change after creation of programm or exuction of it while tupule are immutable objects which therefore cannot be changed after an execution of programm."
      ],
      "metadata": {
        "id": "pI43eW2he3nj"
      }
    },
    {
      "cell_type": "markdown",
      "source": [
        "**ANS 7:** \"==\" is a comparison operator in python which states that whether the statement or code is equal or not and gives output as true or false\n",
        "\n",
        "\"is\" identity operator which Checks whether two objects refer to the same memory location (i.e., are the same object)."
      ],
      "metadata": {
        "id": "omYn1jRVfUid"
      }
    },
    {
      "cell_type": "markdown",
      "source": [
        "**ANS 8:** Logical operator in python are the operator which combines conditional statement and return the value true or false.\n",
        "\n",
        "there are three type of logical operator 1) AND 2)  IS 3)  NOT"
      ],
      "metadata": {
        "id": "ZPi5XJoChcpO"
      }
    },
    {
      "cell_type": "markdown",
      "source": [
        "**ANS 9:** Type casting also referred to as type conversion, is the process of changing one data type to another in python. it provides built in functions such as int(),str(),float(),bool(),tupule(),etc."
      ],
      "metadata": {
        "id": "7IQCIHrviH4g"
      }
    },
    {
      "cell_type": "markdown",
      "source": [
        "**ANS 10:** In implicit typecasting The Python interpreter automatically converts one data type to another without the programmer’s intervention.\n",
        "\n",
        "in explicit The programmer manually converts one data type into another using type conversion functions like int(), float(), str(), etc."
      ],
      "metadata": {
        "id": "FY0kVbukinz_"
      }
    },
    {
      "cell_type": "markdown",
      "source": [
        "**ANS 11:** The purpose of conditional statements in Python is to allow a program to make decisions and execute different blocks of code based on whether certain conditions are true or false."
      ],
      "metadata": {
        "id": "TLpiY98zlyyH"
      }
    },
    {
      "cell_type": "markdown",
      "source": [
        "**ANS 12:** elif statement is used when there are multiple condition is used at a time. these sattement help the programmer to make quick decision using elif statement"
      ],
      "metadata": {
        "id": "4zKvtj-Qm-3U"
      }
    },
    {
      "cell_type": "markdown",
      "source": [
        "**ANS 13:** For loop is used for iterating over a sequence of element, while \"while\" loop are used for executing code until a specific condition becomes false."
      ],
      "metadata": {
        "id": "Z8hd7ejkm-Ks"
      }
    },
    {
      "cell_type": "markdown",
      "source": [
        "**ANS 14:** Imagine you are creating a program that prompts the user to enter a password until they get it right. In this case, you don’t know how many attempts the user will need, so a while loop is a better choice than a for loop."
      ],
      "metadata": {
        "id": "FJxpAeGLoJRI"
      }
    },
    {
      "cell_type": "markdown",
      "source": [
        "**PRACTICAL QUESTIONS**"
      ],
      "metadata": {
        "id": "qqYwjuEAoWML"
      }
    },
    {
      "cell_type": "code",
      "source": [
        "#ANS 1\n",
        "print(\"hello world\")"
      ],
      "metadata": {
        "colab": {
          "base_uri": "https://localhost:8080/"
        },
        "id": "HBRgqS84swj1",
        "outputId": "ccb9be99-be33-4143-c890-6801a8a7d515"
      },
      "execution_count": null,
      "outputs": [
        {
          "output_type": "stream",
          "name": "stdout",
          "text": [
            "hello world\n"
          ]
        }
      ]
    },
    {
      "cell_type": "code",
      "source": [
        "#ANS 2:\n",
        "name = \"Jenish Agrawal\"\n",
        "age = 18\n",
        "print(f\"my name is {name}\")\n",
        "print(f\"my age is {age}\")"
      ],
      "metadata": {
        "colab": {
          "base_uri": "https://localhost:8080/"
        },
        "id": "VlCsH8N_s0Zy",
        "outputId": "582f556a-4aaa-4cbb-c156-1ed3d00181af"
      },
      "execution_count": null,
      "outputs": [
        {
          "output_type": "stream",
          "name": "stdout",
          "text": [
            "my name is Jenish Agrawal\n",
            "my age is 18\n"
          ]
        }
      ]
    },
    {
      "cell_type": "code",
      "source": [
        "#ANS 3:\n",
        "help(\"keywords\")"
      ],
      "metadata": {
        "colab": {
          "base_uri": "https://localhost:8080/"
        },
        "id": "u00wc_A1tRcJ",
        "outputId": "ee913d4f-4835-4747-d40c-3ff987b2fbf3"
      },
      "execution_count": null,
      "outputs": [
        {
          "output_type": "stream",
          "name": "stdout",
          "text": [
            "\n",
            "Here is a list of the Python keywords.  Enter any keyword to get more help.\n",
            "\n",
            "False               class               from                or\n",
            "None                continue            global              pass\n",
            "True                def                 if                  raise\n",
            "and                 del                 import              return\n",
            "as                  elif                in                  try\n",
            "assert              else                is                  while\n",
            "async               except              lambda              with\n",
            "await               finally             nonlocal            yield\n",
            "break               for                 not                 \n",
            "\n"
          ]
        }
      ]
    },
    {
      "cell_type": "code",
      "source": [
        "#ANS 4:\n",
        "import keyword\n",
        "\n",
        "import keyword\n",
        "\n",
        "# Input word from the user\n",
        "word = input(\"Enter a word: \")\n",
        "\n",
        "# Check if the word is a keyword and print the result\n",
        "if keyword.iskeyword(word):\n",
        "    print(word, \"is a Python keyword.\")\n",
        "else:\n",
        "    print(word, \"is not a Python keyword.\")\n",
        "\n",
        "\n"
      ],
      "metadata": {
        "colab": {
          "base_uri": "https://localhost:8080/"
        },
        "id": "Xdocw11_uzJR",
        "outputId": "ba43d9d7-3d7f-4a08-9005-082e7ec93353"
      },
      "execution_count": null,
      "outputs": [
        {
          "output_type": "stream",
          "name": "stdout",
          "text": [
            "Enter a word:  if\n",
            " if is not a Python keyword.\n"
          ]
        }
      ]
    },
    {
      "cell_type": "code",
      "source": [
        "#ANS 5:\n",
        "list_cont = [1,2,\"jenish\", \"python\", 3.14, 87,-89]\n",
        "list_cont\n"
      ],
      "metadata": {
        "id": "GFvLs_Rhwg3P",
        "colab": {
          "base_uri": "https://localhost:8080/"
        },
        "outputId": "adc1577e-7331-4680-9991-063b9fe289c3"
      },
      "execution_count": 39,
      "outputs": [
        {
          "output_type": "execute_result",
          "data": {
            "text/plain": [
              "[1, 2, 'jenish', 'python', 3.14, 87, -89]"
            ]
          },
          "metadata": {},
          "execution_count": 39
        }
      ]
    },
    {
      "cell_type": "code",
      "source": [
        "list_cont[2]"
      ],
      "metadata": {
        "colab": {
          "base_uri": "https://localhost:8080/",
          "height": 36
        },
        "id": "3r32iBLt2WIb",
        "outputId": "06205186-c35f-43d8-caa0-cc98298d7dab"
      },
      "execution_count": 37,
      "outputs": [
        {
          "output_type": "execute_result",
          "data": {
            "text/plain": [
              "'Agrawal'"
            ],
            "application/vnd.google.colaboratory.intrinsic+json": {
              "type": "string"
            }
          },
          "metadata": {},
          "execution_count": 37
        }
      ]
    },
    {
      "cell_type": "code",
      "source": [
        "list_cont[2] = \"Agrawal\" #list are mutable in natue and hence it can modify.\n",
        "list_cont"
      ],
      "metadata": {
        "colab": {
          "base_uri": "https://localhost:8080/"
        },
        "id": "r8hJ8uoa2w2S",
        "outputId": "741e4393-d0c9-48af-cad6-30ae132589ce"
      },
      "execution_count": 40,
      "outputs": [
        {
          "output_type": "execute_result",
          "data": {
            "text/plain": [
              "[1, 2, 'Agrawal', 'python', 3.14, 87, -89]"
            ]
          },
          "metadata": {},
          "execution_count": 40
        }
      ]
    },
    {
      "cell_type": "code",
      "source": [
        "tuple_cont = (1,2,\"jenish\", \"python\", 3.14, 87,-89)\n",
        "tuple_cont"
      ],
      "metadata": {
        "colab": {
          "base_uri": "https://localhost:8080/"
        },
        "id": "bDH5JcrP288r",
        "outputId": "252432b0-9917-45f8-9632-bb97297460f7"
      },
      "execution_count": 41,
      "outputs": [
        {
          "output_type": "execute_result",
          "data": {
            "text/plain": [
              "(1, 2, 'jenish', 'python', 3.14, 87, -89)"
            ]
          },
          "metadata": {},
          "execution_count": 41
        }
      ]
    },
    {
      "cell_type": "code",
      "source": [
        "tuple_cont[2]"
      ],
      "metadata": {
        "colab": {
          "base_uri": "https://localhost:8080/",
          "height": 36
        },
        "id": "WSjD4WxW3LK8",
        "outputId": "e7a1b409-0bf8-4190-8007-200bcc8cdf8f"
      },
      "execution_count": 42,
      "outputs": [
        {
          "output_type": "execute_result",
          "data": {
            "text/plain": [
              "'jenish'"
            ],
            "application/vnd.google.colaboratory.intrinsic+json": {
              "type": "string"
            }
          },
          "metadata": {},
          "execution_count": 42
        }
      ]
    },
    {
      "cell_type": "code",
      "source": [
        "tuple_cont[2] = \"Agrawal\" #tuple are immutable in natue and hence it cannot modify.\n",
        "tuple_cont"
      ],
      "metadata": {
        "colab": {
          "base_uri": "https://localhost:8080/",
          "height": 158
        },
        "id": "R3VpBbmi3M_P",
        "outputId": "a5282dff-575e-4070-c0e3-72eca079c4f4"
      },
      "execution_count": 43,
      "outputs": [
        {
          "output_type": "error",
          "ename": "TypeError",
          "evalue": "'tuple' object does not support item assignment",
          "traceback": [
            "\u001b[0;31m---------------------------------------------------------------------------\u001b[0m",
            "\u001b[0;31mTypeError\u001b[0m                                 Traceback (most recent call last)",
            "\u001b[0;32m<ipython-input-43-f531cf0a3ba8>\u001b[0m in \u001b[0;36m<cell line: 1>\u001b[0;34m()\u001b[0m\n\u001b[0;32m----> 1\u001b[0;31m \u001b[0mtuple_cont\u001b[0m\u001b[0;34m[\u001b[0m\u001b[0;36m2\u001b[0m\u001b[0;34m]\u001b[0m \u001b[0;34m=\u001b[0m \u001b[0;34m\"Agrawal\"\u001b[0m \u001b[0;31m#tuple are immutable in natue and hence it cannot modify.\u001b[0m\u001b[0;34m\u001b[0m\u001b[0;34m\u001b[0m\u001b[0m\n\u001b[0m\u001b[1;32m      2\u001b[0m \u001b[0mtuple_cont\u001b[0m\u001b[0;34m\u001b[0m\u001b[0;34m\u001b[0m\u001b[0m\n",
            "\u001b[0;31mTypeError\u001b[0m: 'tuple' object does not support item assignment"
          ]
        }
      ]
    },
    {
      "cell_type": "code",
      "source": [
        "#ANS 6: # IMMUTABLE\n",
        "name = \"jenish\"\n",
        "name\n"
      ],
      "metadata": {
        "colab": {
          "base_uri": "https://localhost:8080/",
          "height": 36
        },
        "id": "H6y5oG0N3Q3E",
        "outputId": "909c878d-5842-4202-adcf-0662b6315529"
      },
      "execution_count": 44,
      "outputs": [
        {
          "output_type": "execute_result",
          "data": {
            "text/plain": [
              "'jenish'"
            ],
            "application/vnd.google.colaboratory.intrinsic+json": {
              "type": "string"
            }
          },
          "metadata": {},
          "execution_count": 44
        }
      ]
    },
    {
      "cell_type": "code",
      "source": [
        "name[2]"
      ],
      "metadata": {
        "colab": {
          "base_uri": "https://localhost:8080/",
          "height": 36
        },
        "id": "GXRThDRG3igC",
        "outputId": "f9967cdd-2b0a-4cd4-e2d2-c37f6408c6fc"
      },
      "execution_count": 46,
      "outputs": [
        {
          "output_type": "execute_result",
          "data": {
            "text/plain": [
              "'n'"
            ],
            "application/vnd.google.colaboratory.intrinsic+json": {
              "type": "string"
            }
          },
          "metadata": {},
          "execution_count": 46
        }
      ]
    },
    {
      "cell_type": "code",
      "source": [
        "name[2] = \"s\" # it will throw an error as string does not support this item.\n",
        "name"
      ],
      "metadata": {
        "colab": {
          "base_uri": "https://localhost:8080/",
          "height": 158
        },
        "id": "PvvOtOXl3mll",
        "outputId": "9f5667f1-72d7-456c-a1b5-18eba0fce08f"
      },
      "execution_count": 49,
      "outputs": [
        {
          "output_type": "error",
          "ename": "TypeError",
          "evalue": "'str' object does not support item assignment",
          "traceback": [
            "\u001b[0;31m---------------------------------------------------------------------------\u001b[0m",
            "\u001b[0;31mTypeError\u001b[0m                                 Traceback (most recent call last)",
            "\u001b[0;32m<ipython-input-49-9068b472bb17>\u001b[0m in \u001b[0;36m<cell line: 1>\u001b[0;34m()\u001b[0m\n\u001b[0;32m----> 1\u001b[0;31m \u001b[0mname\u001b[0m\u001b[0;34m[\u001b[0m\u001b[0;36m2\u001b[0m\u001b[0;34m]\u001b[0m \u001b[0;34m=\u001b[0m \u001b[0;34m\"s\"\u001b[0m \u001b[0;31m# it will throw an error as string does not support this item.\u001b[0m\u001b[0;34m\u001b[0m\u001b[0;34m\u001b[0m\u001b[0m\n\u001b[0m\u001b[1;32m      2\u001b[0m \u001b[0mname\u001b[0m\u001b[0;34m\u001b[0m\u001b[0;34m\u001b[0m\u001b[0m\n",
            "\u001b[0;31mTypeError\u001b[0m: 'str' object does not support item assignment"
          ]
        }
      ]
    },
    {
      "cell_type": "code",
      "source": [
        "# MUTABLE"
      ],
      "metadata": {
        "id": "aRTVk3OD3vl_"
      },
      "execution_count": 50,
      "outputs": []
    },
    {
      "cell_type": "code",
      "source": [
        "a = [12,58,\"jenish\", \"commerce\"]\n",
        "a"
      ],
      "metadata": {
        "colab": {
          "base_uri": "https://localhost:8080/"
        },
        "id": "rth1MYBn4fuW",
        "outputId": "8e8ed56e-55fa-4e74-ab68-96dd749b745c"
      },
      "execution_count": 51,
      "outputs": [
        {
          "output_type": "execute_result",
          "data": {
            "text/plain": [
              "[12, 58, 'jenish', 'commerce']"
            ]
          },
          "metadata": {},
          "execution_count": 51
        }
      ]
    },
    {
      "cell_type": "code",
      "source": [
        "a[0]"
      ],
      "metadata": {
        "colab": {
          "base_uri": "https://localhost:8080/"
        },
        "id": "uphVYGcW4rSF",
        "outputId": "06016cdb-5f29-4e74-ea4e-4ca5e341fb6a"
      },
      "execution_count": 52,
      "outputs": [
        {
          "output_type": "execute_result",
          "data": {
            "text/plain": [
              "12"
            ]
          },
          "metadata": {},
          "execution_count": 52
        }
      ]
    },
    {
      "cell_type": "code",
      "source": [
        "a[0] = 21\n",
        "a"
      ],
      "metadata": {
        "colab": {
          "base_uri": "https://localhost:8080/"
        },
        "id": "qdmcuTbU4t0r",
        "outputId": "fd16c6ee-82d3-4a18-9b7f-872f734e0d22"
      },
      "execution_count": 54,
      "outputs": [
        {
          "output_type": "execute_result",
          "data": {
            "text/plain": [
              "[21, 58, 'jenish', 'commerce']"
            ]
          },
          "metadata": {},
          "execution_count": 54
        }
      ]
    },
    {
      "cell_type": "code",
      "source": [
        "#ANS 7 Same as Q6"
      ],
      "metadata": {
        "id": "Il2xj2mn4wD5"
      },
      "execution_count": 55,
      "outputs": []
    },
    {
      "cell_type": "code",
      "source": [
        "# ANS 8:\n",
        "# logical operator = \"and,is,not\"\n",
        "True and True # AND"
      ],
      "metadata": {
        "colab": {
          "base_uri": "https://localhost:8080/"
        },
        "id": "C1Q8cJP_459r",
        "outputId": "4dcac03f-29ba-47fe-de81-089a79129513"
      },
      "execution_count": 56,
      "outputs": [
        {
          "output_type": "execute_result",
          "data": {
            "text/plain": [
              "True"
            ]
          },
          "metadata": {},
          "execution_count": 56
        }
      ]
    },
    {
      "cell_type": "code",
      "source": [
        "True and False"
      ],
      "metadata": {
        "colab": {
          "base_uri": "https://localhost:8080/"
        },
        "id": "H3NCmB-_5hjD",
        "outputId": "f65ec89b-c798-494a-88ff-c8e37ddbe11c"
      },
      "execution_count": 57,
      "outputs": [
        {
          "output_type": "execute_result",
          "data": {
            "text/plain": [
              "False"
            ]
          },
          "metadata": {},
          "execution_count": 57
        }
      ]
    },
    {
      "cell_type": "code",
      "source": [
        "False and False"
      ],
      "metadata": {
        "colab": {
          "base_uri": "https://localhost:8080/"
        },
        "id": "vBFuzbq95jmB",
        "outputId": "8d65b603-a658-404d-c371-0dccbe900f59"
      },
      "execution_count": 58,
      "outputs": [
        {
          "output_type": "execute_result",
          "data": {
            "text/plain": [
              "False"
            ]
          },
          "metadata": {},
          "execution_count": 58
        }
      ]
    },
    {
      "cell_type": "code",
      "source": [
        "#OR\n",
        "True or True"
      ],
      "metadata": {
        "colab": {
          "base_uri": "https://localhost:8080/"
        },
        "id": "6Z6E93v85nGi",
        "outputId": "c9382356-8f50-420a-bda3-2e6755b3be11"
      },
      "execution_count": 61,
      "outputs": [
        {
          "output_type": "execute_result",
          "data": {
            "text/plain": [
              "True"
            ]
          },
          "metadata": {},
          "execution_count": 61
        }
      ]
    },
    {
      "cell_type": "code",
      "source": [
        "True or False"
      ],
      "metadata": {
        "colab": {
          "base_uri": "https://localhost:8080/"
        },
        "id": "weq2IT1h5vTB",
        "outputId": "51b3172e-1409-46e1-d48c-45b29eb0a985"
      },
      "execution_count": 62,
      "outputs": [
        {
          "output_type": "execute_result",
          "data": {
            "text/plain": [
              "True"
            ]
          },
          "metadata": {},
          "execution_count": 62
        }
      ]
    },
    {
      "cell_type": "code",
      "source": [
        "False or False"
      ],
      "metadata": {
        "colab": {
          "base_uri": "https://localhost:8080/"
        },
        "id": "-YNpvrh75xRY",
        "outputId": "983a828e-6ca3-445b-d5b9-8946fe695e4e"
      },
      "execution_count": 63,
      "outputs": [
        {
          "output_type": "execute_result",
          "data": {
            "text/plain": [
              "False"
            ]
          },
          "metadata": {},
          "execution_count": 63
        }
      ]
    },
    {
      "cell_type": "code",
      "source": [
        "# ANS 9\n",
        "a = 2.25\n",
        "type(a)"
      ],
      "metadata": {
        "colab": {
          "base_uri": "https://localhost:8080/"
        },
        "id": "RSLyph9U56E4",
        "outputId": "e5096a85-430c-4256-e955-d72636d73202"
      },
      "execution_count": 64,
      "outputs": [
        {
          "output_type": "execute_result",
          "data": {
            "text/plain": [
              "float"
            ]
          },
          "metadata": {},
          "execution_count": 64
        }
      ]
    },
    {
      "cell_type": "code",
      "source": [
        "str(a)"
      ],
      "metadata": {
        "colab": {
          "base_uri": "https://localhost:8080/",
          "height": 36
        },
        "id": "gFUNAIJB6FDg",
        "outputId": "f2b56a15-8067-4c54-a6e6-c2f238c693c5"
      },
      "execution_count": 66,
      "outputs": [
        {
          "output_type": "execute_result",
          "data": {
            "text/plain": [
              "'2.25'"
            ],
            "application/vnd.google.colaboratory.intrinsic+json": {
              "type": "string"
            }
          },
          "metadata": {},
          "execution_count": 66
        }
      ]
    },
    {
      "cell_type": "code",
      "source": [
        "int(a)"
      ],
      "metadata": {
        "colab": {
          "base_uri": "https://localhost:8080/"
        },
        "id": "LqsIcmde6Osu",
        "outputId": "93a9513d-f944-4611-ab7d-0e0111dc4bb3"
      },
      "execution_count": 68,
      "outputs": [
        {
          "output_type": "execute_result",
          "data": {
            "text/plain": [
              "2"
            ]
          },
          "metadata": {},
          "execution_count": 68
        }
      ]
    },
    {
      "cell_type": "code",
      "source": [
        "bool(a)"
      ],
      "metadata": {
        "colab": {
          "base_uri": "https://localhost:8080/"
        },
        "id": "5Xp7ZfgE6UfO",
        "outputId": "63c24c87-5af0-4369-facd-4ba764d98a44"
      },
      "execution_count": 69,
      "outputs": [
        {
          "output_type": "execute_result",
          "data": {
            "text/plain": [
              "True"
            ]
          },
          "metadata": {},
          "execution_count": 69
        }
      ]
    },
    {
      "cell_type": "code",
      "source": [
        "a = 5\n",
        "b = 10\n",
        "a + b\n",
        "print(type(a))\n",
        "print(type(str(a)))"
      ],
      "metadata": {
        "colab": {
          "base_uri": "https://localhost:8080/"
        },
        "id": "DNTDYb0V6YS_",
        "outputId": "d58900c5-d8f2-4533-8552-31edfc48ebac"
      },
      "execution_count": 73,
      "outputs": [
        {
          "output_type": "stream",
          "name": "stdout",
          "text": [
            "<class 'int'>\n",
            "<class 'str'>\n"
          ]
        }
      ]
    },
    {
      "cell_type": "code",
      "source": [
        "#ANS 10\n",
        "list_cont = [1,\"jenish\", 3.14,\"True\"]\n",
        "list_cont"
      ],
      "metadata": {
        "colab": {
          "base_uri": "https://localhost:8080/"
        },
        "id": "esgC88DT6cSq",
        "outputId": "20960431-6681-4ca0-c1b2-0c2886b79f3a"
      },
      "execution_count": 74,
      "outputs": [
        {
          "output_type": "execute_result",
          "data": {
            "text/plain": [
              "[1, 'jenish', 3.14, 'True']"
            ]
          },
          "metadata": {},
          "execution_count": 74
        }
      ]
    },
    {
      "cell_type": "code",
      "source": [
        "\n",
        "print(type(str(list_cont[0])))\n",
        "print(type(str(list_cont[1])))\n",
        "print(type(int(list_cont[2])))\n",
        "print(type(bool(list_cont[3])))\n"
      ],
      "metadata": {
        "colab": {
          "base_uri": "https://localhost:8080/"
        },
        "id": "xdSdZS337nbs",
        "outputId": "27bcdf9c-7ff1-4002-9199-5c0e7cb5e432"
      },
      "execution_count": 82,
      "outputs": [
        {
          "output_type": "stream",
          "name": "stdout",
          "text": [
            "<class 'str'>\n",
            "<class 'str'>\n",
            "<class 'int'>\n",
            "<class 'bool'>\n"
          ]
        }
      ]
    },
    {
      "cell_type": "code",
      "source": [
        "bool(list_cont[0])"
      ],
      "metadata": {
        "colab": {
          "base_uri": "https://localhost:8080/"
        },
        "id": "cc9m3EnX7vsq",
        "outputId": "8709dd43-dd2b-4ae6-bf76-3cf4e67976cc"
      },
      "execution_count": 84,
      "outputs": [
        {
          "output_type": "execute_result",
          "data": {
            "text/plain": [
              "True"
            ]
          },
          "metadata": {},
          "execution_count": 84
        }
      ]
    },
    {
      "cell_type": "code",
      "source": [
        "int(list_cont[2])"
      ],
      "metadata": {
        "colab": {
          "base_uri": "https://localhost:8080/"
        },
        "id": "9r6ijVHu8tpq",
        "outputId": "8ab6f0fe-05d0-4ba0-82f0-d3c610910c54"
      },
      "execution_count": 86,
      "outputs": [
        {
          "output_type": "execute_result",
          "data": {
            "text/plain": [
              "3"
            ]
          },
          "metadata": {},
          "execution_count": 86
        }
      ]
    },
    {
      "cell_type": "code",
      "source": [
        "# ANS 11\n",
        "a = int(input(\"enter the number\"))\n",
        "if a == 0:\n",
        "  print(\"number is zero\")\n",
        "elif a>0:\n",
        "  print(\"number is positive\")\n",
        "else:\n",
        "  print(\"number is negative\")"
      ],
      "metadata": {
        "colab": {
          "base_uri": "https://localhost:8080/"
        },
        "id": "tinKZHQ987hr",
        "outputId": "e5d95a3a-3884-45cb-a765-27f6b1bc9a77"
      },
      "execution_count": 2,
      "outputs": [
        {
          "output_type": "stream",
          "name": "stdout",
          "text": [
            "enter the number -1\n",
            "number is negative\n"
          ]
        }
      ]
    },
    {
      "cell_type": "code",
      "source": [
        "a = int(input(\"enter the number\"))\n",
        "if a == 0:\n",
        "  print(\"number is zero\")\n",
        "elif a>0:\n",
        "  print(\"number is positive\")\n",
        "else:\n",
        "  print(\"number is negative\")"
      ],
      "metadata": {
        "colab": {
          "base_uri": "https://localhost:8080/"
        },
        "id": "iIX3DlGy8upd",
        "outputId": "29b847e9-7197-45c3-bd04-053695b6aec3"
      },
      "execution_count": 3,
      "outputs": [
        {
          "output_type": "stream",
          "name": "stdout",
          "text": [
            "enter the number 0\n",
            "number is zero\n"
          ]
        }
      ]
    },
    {
      "cell_type": "code",
      "source": [
        "a = int(input(\"enter the number\"))\n",
        "if a == 0:\n",
        "  print(\"number is zero\")\n",
        "elif a>0:\n",
        "  print(\"number is positive\")\n",
        "else:\n",
        "  print(\"number is negative\")"
      ],
      "metadata": {
        "colab": {
          "base_uri": "https://localhost:8080/"
        },
        "id": "UuwDWSFr81PF",
        "outputId": "c9363535-6de7-47a8-a68b-7de3ef60742c"
      },
      "execution_count": 4,
      "outputs": [
        {
          "output_type": "stream",
          "name": "stdout",
          "text": [
            "enter the number 1\n",
            "number is positive\n"
          ]
        }
      ]
    },
    {
      "cell_type": "code",
      "source": [
        "# ANS 12\n",
        "a = 1\n",
        "b = 11\n",
        "while a<b:\n",
        "  print(a)\n",
        "  a = a+1"
      ],
      "metadata": {
        "colab": {
          "base_uri": "https://localhost:8080/"
        },
        "id": "260PnOi68450",
        "outputId": "a765aa68-d177-41ca-d373-dd57faaa6fb6"
      },
      "execution_count": 7,
      "outputs": [
        {
          "output_type": "stream",
          "name": "stdout",
          "text": [
            "1\n",
            "2\n",
            "3\n",
            "4\n",
            "5\n",
            "6\n",
            "7\n",
            "8\n",
            "9\n",
            "10\n"
          ]
        }
      ]
    },
    {
      "cell_type": "code",
      "source": [
        "#ANS 13\n",
        "sum_even = 0\n",
        "for a in range(2,51,2):\n",
        "  sum_even = sum_even + a\n",
        "print(sum_even)"
      ],
      "metadata": {
        "colab": {
          "base_uri": "https://localhost:8080/"
        },
        "id": "oeCZb7579UwV",
        "outputId": "2aef87d5-894b-4564-8e45-744f88d4159d"
      },
      "execution_count": 13,
      "outputs": [
        {
          "output_type": "stream",
          "name": "stdout",
          "text": [
            "650\n"
          ]
        }
      ]
    },
    {
      "cell_type": "code",
      "source": [
        "#ANS 14\n",
        "string = input(\"enter the sting\")\n",
        "reverse_string = string[::-1]\n",
        "print(reverse_string)"
      ],
      "metadata": {
        "colab": {
          "base_uri": "https://localhost:8080/"
        },
        "id": "vsiLyB8l9xjG",
        "outputId": "68df0461-6e77-45c4-f4e6-57b459b1aa40"
      },
      "execution_count": 14,
      "outputs": [
        {
          "output_type": "stream",
          "name": "stdout",
          "text": [
            "enter the sting JENISH\n",
            "HSINEJ \n"
          ]
        }
      ]
    },
    {
      "cell_type": "code",
      "source": [
        "# ANS 15\n",
        "num = input(\"enter the number\")\n",
        "factorial = 1\n",
        "for a in range(1,int(num)+1):\n",
        "  factorial = factorial*a\n",
        "print(factorial)\n"
      ],
      "metadata": {
        "colab": {
          "base_uri": "https://localhost:8080/"
        },
        "id": "bzcAfHElAHKx",
        "outputId": "65c963cc-fb31-41f4-9202-eaa0b84d719c"
      },
      "execution_count": 15,
      "outputs": [
        {
          "output_type": "stream",
          "name": "stdout",
          "text": [
            "enter the number 5\n",
            "120\n"
          ]
        }
      ]
    },
    {
      "cell_type": "code",
      "source": [],
      "metadata": {
        "id": "JVlHZnDIAkBZ"
      },
      "execution_count": null,
      "outputs": []
    }
  ]
}